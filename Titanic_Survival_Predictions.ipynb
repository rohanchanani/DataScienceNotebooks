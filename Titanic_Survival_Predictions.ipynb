{
 "cells": [
  {
   "cell_type": "code",
   "execution_count": 1,
   "metadata": {},
   "outputs": [],
   "source": [
    "#importing necessary tools\n",
    "import itertools\n",
    "import numpy as np\n",
    "import matplotlib.pyplot as plt\n",
    "from matplotlib.ticker import NullFormatter\n",
    "import pandas as pd\n",
    "import pylab as pl\n",
    "import numpy as np\n",
    "import scipy.optimize as opt\n",
    "from sklearn.model_selection import train_test_split\n",
    "import matplotlib.ticker as ticker\n",
    "from sklearn import preprocessing\n",
    "from sklearn.preprocessing import StandardScaler\n",
    "import types\n",
    "import pandas as pd\n",
    "from sklearn.neighbors import KNeighborsClassifier\n",
    "from sklearn.metrics import accuracy_score, log_loss, confusion_matrix, classification_report, f1_score, jaccard_score, accuracy_score\n",
    "from sklearn.linear_model import LogisticRegression\n",
    "from sklearn import svm\n",
    "from sklearn.tree import DecisionTreeClassifier\n",
    "import seaborn as sns\n",
    "from sklearn.model_selection import cross_validate\n",
    "from statistics import mean\n",
    "%matplotlib inline"
   ]
  },
  {
   "cell_type": "code",
   "execution_count": 2,
   "metadata": {},
   "outputs": [],
   "source": [
    "train_df = pd.read_csv('Titanic_train.csv')\n",
    "test_df = pd.read_csv('titanic_test.csv')\n",
    "example_df = pd.read_csv('titanic_gender_submission.csv')"
   ]
  },
  {
   "cell_type": "code",
   "execution_count": 3,
   "metadata": {},
   "outputs": [
    {
     "data": {
      "image/png": "[encoded data removed]",
      "text/plain": [
       "<Figure size 432x432 with 3 Axes>"
      ]
     },
     "metadata": {
      "needs_background": "light"
     },
     "output_type": "display_data"
    }
   ],
   "source": [
    "bins = np.linspace(train_df.Age.min(), train_df.Age.max()+1, 10)\n",
    "g = sns.FacetGrid(train_df, col=\"Embarked\", hue=\"Survived\", palette=\"Set1\", col_wrap=2)\n",
    "g.map(plt.hist, 'Age', bins=bins, ec=\"k\")\n",
    "\n",
    "g.axes[-1].legend()\n",
    "plt.show()\n"
   ]
  },
  {
   "cell_type": "markdown",
   "metadata": {},
   "source": [
    "# Training Dataframe Preparation"
   ]
  },
  {
   "cell_type": "code",
   "execution_count": 4,
   "metadata": {},
   "outputs": [
    {
     "data": {
      "text/plain": [
       "(891, 13)"
      ]
     },
     "execution_count": 4,
     "metadata": {},
     "output_type": "execute_result"
    }
   ],
   "source": [
    "modelling_df = train_df.copy()\n",
    "modelling_df['Child'] = modelling_df['Age']<18\n",
    "modelling_df['Child'].replace([True, False], [1, 0], inplace = True)\n",
    "modelling_df.shape"
   ]
  },
  {
   "cell_type": "code",
   "execution_count": 5,
   "metadata": {},
   "outputs": [],
   "source": [
    "new_age_features = ['Pclass', 'Sex', 'Age', 'Fare', 'Embarked', 'Child']\n",
    "no_age_features = ['Pclass', 'Sex', 'Fare', 'Embarked']"
   ]
  },
  {
   "cell_type": "code",
   "execution_count": 6,
   "metadata": {},
   "outputs": [],
   "source": [
    "modelling_df['Embarked'].replace(['Q', 'S', 'C'], [0, 1, 2], inplace = True)\n",
    "modelling_df['Sex'].replace(['male', 'female'], [0, 1], inplace = True)"
   ]
  },
  {
   "cell_type": "code",
   "execution_count": 7,
   "metadata": {},
   "outputs": [
    {
     "data": {
      "text/html": [
       "<div>\n",
       "<style scoped>\n",
       "    .dataframe tbody tr th:only-of-type {\n",
       "        vertical-align: middle;\n",
       "    }\n",
       "\n",
       "    .dataframe tbody tr th {\n",
       "        vertical-align: top;\n",
       "    }\n",
       "\n",
       "    .dataframe thead th {\n",
       "        text-align: right;\n",
       "    }\n",
       "</style>\n",
       "<table border=\"1\" class=\"dataframe\">\n",
       "  <thead>\n",
       "    <tr style=\"text-align: right;\">\n",
       "      <th></th>\n",
       "      <th>PassengerId</th>\n",
       "      <th>Survived</th>\n",
       "      <th>Pclass</th>\n",
       "      <th>Name</th>\n",
       "      <th>Sex</th>\n",
       "      <th>Age</th>\n",
       "      <th>SibSp</th>\n",
       "      <th>Parch</th>\n",
       "      <th>Ticket</th>\n",
       "      <th>Fare</th>\n",
       "      <th>Cabin</th>\n",
       "      <th>Embarked</th>\n",
       "      <th>Child</th>\n",
       "    </tr>\n",
       "  </thead>\n",
       "  <tbody>\n",
       "    <tr>\n",
       "      <th>0</th>\n",
       "      <td>1</td>\n",
       "      <td>0</td>\n",
       "      <td>3</td>\n",
       "      <td>Braund, Mr. Owen Harris</td>\n",
       "      <td>0</td>\n",
       "      <td>22.0</td>\n",
       "      <td>1</td>\n",
       "      <td>0</td>\n",
       "      <td>A/5 21171</td>\n",
       "      <td>7.2500</td>\n",
       "      <td>NaN</td>\n",
       "      <td>1.0</td>\n",
       "      <td>0</td>\n",
       "    </tr>\n",
       "    <tr>\n",
       "      <th>1</th>\n",
       "      <td>2</td>\n",
       "      <td>1</td>\n",
       "      <td>1</td>\n",
       "      <td>Cumings, Mrs. John Bradley (Florence Briggs Th...</td>\n",
       "      <td>1</td>\n",
       "      <td>38.0</td>\n",
       "      <td>1</td>\n",
       "      <td>0</td>\n",
       "      <td>PC 17599</td>\n",
       "      <td>71.2833</td>\n",
       "      <td>C85</td>\n",
       "      <td>2.0</td>\n",
       "      <td>0</td>\n",
       "    </tr>\n",
       "    <tr>\n",
       "      <th>2</th>\n",
       "      <td>3</td>\n",
       "      <td>1</td>\n",
       "      <td>3</td>\n",
       "      <td>Heikkinen, Miss. Laina</td>\n",
       "      <td>1</td>\n",
       "      <td>26.0</td>\n",
       "      <td>0</td>\n",
       "      <td>0</td>\n",
       "      <td>STON/O2. 3101282</td>\n",
       "      <td>7.9250</td>\n",
       "      <td>NaN</td>\n",
       "      <td>1.0</td>\n",
       "      <td>0</td>\n",
       "    </tr>\n",
       "    <tr>\n",
       "      <th>3</th>\n",
       "      <td>4</td>\n",
       "      <td>1</td>\n",
       "      <td>1</td>\n",
       "      <td>Futrelle, Mrs. Jacques Heath (Lily May Peel)</td>\n",
       "      <td>1</td>\n",
       "      <td>35.0</td>\n",
       "      <td>1</td>\n",
       "      <td>0</td>\n",
       "      <td>113803</td>\n",
       "      <td>53.1000</td>\n",
       "      <td>C123</td>\n",
       "      <td>1.0</td>\n",
       "      <td>0</td>\n",
       "    </tr>\n",
       "    <tr>\n",
       "      <th>4</th>\n",
       "      <td>5</td>\n",
       "      <td>0</td>\n",
       "      <td>3</td>\n",
       "      <td>Allen, Mr. William Henry</td>\n",
       "      <td>0</td>\n",
       "      <td>35.0</td>\n",
       "      <td>0</td>\n",
       "      <td>0</td>\n",
       "      <td>373450</td>\n",
       "      <td>8.0500</td>\n",
       "      <td>NaN</td>\n",
       "      <td>1.0</td>\n",
       "      <td>0</td>\n",
       "    </tr>\n",
       "    <tr>\n",
       "      <th>...</th>\n",
       "      <td>...</td>\n",
       "      <td>...</td>\n",
       "      <td>...</td>\n",
       "      <td>...</td>\n",
       "      <td>...</td>\n",
       "      <td>...</td>\n",
       "      <td>...</td>\n",
       "      <td>...</td>\n",
       "      <td>...</td>\n",
       "      <td>...</td>\n",
       "      <td>...</td>\n",
       "      <td>...</td>\n",
       "      <td>...</td>\n",
       "    </tr>\n",
       "    <tr>\n",
       "      <th>886</th>\n",
       "      <td>887</td>\n",
       "      <td>0</td>\n",
       "      <td>2</td>\n",
       "      <td>Montvila, Rev. Juozas</td>\n",
       "      <td>0</td>\n",
       "      <td>27.0</td>\n",
       "      <td>0</td>\n",
       "      <td>0</td>\n",
       "      <td>211536</td>\n",
       "      <td>13.0000</td>\n",
       "      <td>NaN</td>\n",
       "      <td>1.0</td>\n",
       "      <td>0</td>\n",
       "    </tr>\n",
       "    <tr>\n",
       "      <th>887</th>\n",
       "      <td>888</td>\n",
       "      <td>1</td>\n",
       "      <td>1</td>\n",
       "      <td>Graham, Miss. Margaret Edith</td>\n",
       "      <td>1</td>\n",
       "      <td>19.0</td>\n",
       "      <td>0</td>\n",
       "      <td>0</td>\n",
       "      <td>112053</td>\n",
       "      <td>30.0000</td>\n",
       "      <td>B42</td>\n",
       "      <td>1.0</td>\n",
       "      <td>0</td>\n",
       "    </tr>\n",
       "    <tr>\n",
       "      <th>888</th>\n",
       "      <td>889</td>\n",
       "      <td>0</td>\n",
       "      <td>3</td>\n",
       "      <td>Johnston, Miss. Catherine Helen \"Carrie\"</td>\n",
       "      <td>1</td>\n",
       "      <td>NaN</td>\n",
       "      <td>1</td>\n",
       "      <td>2</td>\n",
       "      <td>W./C. 6607</td>\n",
       "      <td>23.4500</td>\n",
       "      <td>NaN</td>\n",
       "      <td>1.0</td>\n",
       "      <td>0</td>\n",
       "    </tr>\n",
       "    <tr>\n",
       "      <th>889</th>\n",
       "      <td>890</td>\n",
       "      <td>1</td>\n",
       "      <td>1</td>\n",
       "      <td>Behr, Mr. Karl Howell</td>\n",
       "      <td>0</td>\n",
       "      <td>26.0</td>\n",
       "      <td>0</td>\n",
       "      <td>0</td>\n",
       "      <td>111369</td>\n",
       "      <td>30.0000</td>\n",
       "      <td>C148</td>\n",
       "      <td>2.0</td>\n",
       "      <td>0</td>\n",
       "    </tr>\n",
       "    <tr>\n",
       "      <th>890</th>\n",
       "      <td>891</td>\n",
       "      <td>0</td>\n",
       "      <td>3</td>\n",
       "      <td>Dooley, Mr. Patrick</td>\n",
       "      <td>0</td>\n",
       "      <td>32.0</td>\n",
       "      <td>0</td>\n",
       "      <td>0</td>\n",
       "      <td>370376</td>\n",
       "      <td>7.7500</td>\n",
       "      <td>NaN</td>\n",
       "      <td>0.0</td>\n",
       "      <td>0</td>\n",
       "    </tr>\n",
       "  </tbody>\n",
       "</table>\n",
       "<p>889 rows × 13 columns</p>\n",
       "</div>"
      ],
      "text/plain": [
       "     PassengerId  Survived  Pclass  \\\n",
       "0              1         0       3   \n",
       "1              2         1       1   \n",
       "2              3         1       3   \n",
       "3              4         1       1   \n",
       "4              5         0       3   \n",
       "..           ...       ...     ...   \n",
       "886          887         0       2   \n",
       "887          888         1       1   \n",
       "888          889         0       3   \n",
       "889          890         1       1   \n",
       "890          891         0       3   \n",
       "\n",
       "                                                  Name  Sex   Age  SibSp  \\\n",
       "0                              Braund, Mr. Owen Harris    0  22.0      1   \n",
       "1    Cumings, Mrs. John Bradley (Florence Briggs Th...    1  38.0      1   \n",
       "2                               Heikkinen, Miss. Laina    1  26.0      0   \n",
       "3         Futrelle, Mrs. Jacques Heath (Lily May Peel)    1  35.0      1   \n",
       "4                             Allen, Mr. William Henry    0  35.0      0   \n",
       "..                                                 ...  ...   ...    ...   \n",
       "886                              Montvila, Rev. Juozas    0  27.0      0   \n",
       "887                       Graham, Miss. Margaret Edith    1  19.0      0   \n",
       "888           Johnston, Miss. Catherine Helen \"Carrie\"    1   NaN      1   \n",
       "889                              Behr, Mr. Karl Howell    0  26.0      0   \n",
       "890                                Dooley, Mr. Patrick    0  32.0      0   \n",
       "\n",
       "     Parch            Ticket     Fare Cabin  Embarked  Child  \n",
       "0        0         A/5 21171   7.2500   NaN       1.0      0  \n",
       "1        0          PC 17599  71.2833   C85       2.0      0  \n",
       "2        0  STON/O2. 3101282   7.9250   NaN       1.0      0  \n",
       "3        0            113803  53.1000  C123       1.0      0  \n",
       "4        0            373450   8.0500   NaN       1.0      0  \n",
       "..     ...               ...      ...   ...       ...    ...  \n",
       "886      0            211536  13.0000   NaN       1.0      0  \n",
       "887      0            112053  30.0000   B42       1.0      0  \n",
       "888      2        W./C. 6607  23.4500   NaN       1.0      0  \n",
       "889      0            111369  30.0000  C148       2.0      0  \n",
       "890      0            370376   7.7500   NaN       0.0      0  \n",
       "\n",
       "[889 rows x 13 columns]"
      ]
     },
     "execution_count": 7,
     "metadata": {},
     "output_type": "execute_result"
    }
   ],
   "source": [
    "for feature in no_age_features:\n",
    "    for number in modelling_df.index:\n",
    "        if pd.isna(modelling_df.loc[number, feature]):\n",
    "            modelling_df.drop(index = number, inplace = True)\n",
    "modelling_df"
   ]
  },
  {
   "cell_type": "code",
   "execution_count": 8,
   "metadata": {},
   "outputs": [],
   "source": [
    "age_replace = modelling_df[pd.isna(modelling_df['Age'])].index.tolist()\n",
    "no_age_modelling = modelling_df.iloc[age_replace]\n",
    "age_modelling = modelling_df.drop(index = age_replace)"
   ]
  },
  {
   "cell_type": "code",
   "execution_count": 9,
   "metadata": {},
   "outputs": [],
   "source": [
    "age_survived_values = age_modelling['Survived'].tolist()\n",
    "no_age_survived_values = no_age_modelling['Survived'].tolist()\n",
    "age_y = np.array(age_survived_values)\n",
    "no_age_y = np.array(no_age_survived_values)"
   ]
  },
  {
   "cell_type": "markdown",
   "metadata": {},
   "source": [
    "transformed_df = pd.DataFrame(columns = features)\n",
    "for row in rows:\n",
    "    a_series = pd.Series(row, index = transformed_df.columns)\n",
    "    transformed_df = transformed_df.append(a_series, ignore_index=True)\n",
    "transformed_df['Survived'] = survived_values\n",
    "transformed_df.corr()##"
   ]
  },
  {
   "cell_type": "code",
   "execution_count": 10,
   "metadata": {
    "scrolled": true
   },
   "outputs": [
    {
     "data": {
      "text/plain": [
       "array([[ 0.90859974, -0.75613751, -0.52766856, -0.51637992, -0.31923045,\n",
       "        -0.43433598],\n",
       "       [-1.48298257,  1.32251077,  0.57709388,  0.69404605,  1.9091233 ,\n",
       "        -0.43433598],\n",
       "       [ 0.90859974,  1.32251077, -0.25147795, -0.50362035, -0.31923045,\n",
       "        -0.43433598],\n",
       "       [-1.48298257,  1.32251077,  0.36995092,  0.35032585, -0.31923045,\n",
       "        -0.43433598],\n",
       "       [ 0.90859974, -0.75613751,  0.36995092, -0.50125747, -0.31923045,\n",
       "        -0.43433598]])"
      ]
     },
     "execution_count": 10,
     "metadata": {},
     "output_type": "execute_result"
    }
   ],
   "source": [
    "age_train_X = age_modelling[new_age_features]\n",
    "no_age_train_X = no_age_modelling[no_age_features]\n",
    "age_train_X = preprocessing.StandardScaler().fit(age_train_X).transform(age_train_X.astype(float))\n",
    "no_age_train_X = preprocessing.StandardScaler().fit(no_age_train_X).transform(no_age_train_X.astype(float))\n",
    "age_train_X [0:5]"
   ]
  },
  {
   "cell_type": "code",
   "execution_count": 11,
   "metadata": {},
   "outputs": [
    {
     "data": {
      "text/plain": [
       "array([0, 1, 1, 1, 0])"
      ]
     },
     "execution_count": 11,
     "metadata": {},
     "output_type": "execute_result"
    }
   ],
   "source": [
    "age_y[0:5]"
   ]
  },
  {
   "cell_type": "markdown",
   "metadata": {},
   "source": [
    "# Preparing Prediction Data"
   ]
  },
  {
   "cell_type": "code",
   "execution_count": 12,
   "metadata": {},
   "outputs": [
    {
     "data": {
      "text/plain": [
       "(418, 12)"
      ]
     },
     "execution_count": 12,
     "metadata": {},
     "output_type": "execute_result"
    }
   ],
   "source": [
    "predicting_df = test_df.copy()\n",
    "predicting_df['Child'] = predicting_df['Age']<18\n",
    "predicting_df['Child'].replace([True, False], [1, 0], inplace = True)\n",
    "predicting_df.shape"
   ]
  },
  {
   "cell_type": "code",
   "execution_count": 13,
   "metadata": {},
   "outputs": [],
   "source": [
    "predicting_df['Embarked'].replace(['Q', 'S', 'C'], [0, 1, 2], inplace = True)\n",
    "predicting_df['Sex'].replace(['male', 'female'], [0, 1], inplace = True)"
   ]
  },
  {
   "cell_type": "code",
   "execution_count": 14,
   "metadata": {},
   "outputs": [],
   "source": [
    "fare_nan_replace = predicting_df[pd.isna(predicting_df['Fare'])].index.tolist()"
   ]
  },
  {
   "cell_type": "code",
   "execution_count": 15,
   "metadata": {},
   "outputs": [],
   "source": [
    "predicting_df.loc[fare_nan_replace, 'Fare'] = 12"
   ]
  },
  {
   "cell_type": "code",
   "execution_count": 16,
   "metadata": {},
   "outputs": [],
   "source": [
    "age_nan_replace = predicting_df[pd.isna(predicting_df['Age'])].index.tolist()\n",
    "no_age_predicting = predicting_df.iloc[age_nan_replace]\n",
    "age_predicting = predicting_df.drop(index = age_nan_replace)"
   ]
  },
  {
   "cell_type": "code",
   "execution_count": 17,
   "metadata": {},
   "outputs": [
    {
     "data": {
      "text/plain": [
       "array([[ 1.01232494, -0.78709097,  0.29854934, -0.54148621, -2.22900041,\n",
       "        -0.37535779],\n",
       "       [ 1.01232494,  1.27050117,  1.18132793, -0.55506529, -0.34117353,\n",
       "        -0.37535779],\n",
       "       [-0.17109717, -0.78709097,  2.24066224, -0.51105446, -2.22900041,\n",
       "        -0.37535779],\n",
       "       [ 1.01232494, -0.78709097, -0.23111782, -0.52783999, -0.34117353,\n",
       "        -0.37535779],\n",
       "       [ 1.01232494,  1.27050117, -0.58422925, -0.46847654, -0.34117353,\n",
       "        -0.37535779]])"
      ]
     },
     "execution_count": 17,
     "metadata": {},
     "output_type": "execute_result"
    }
   ],
   "source": [
    "age_test_X = age_predicting[new_age_features]\n",
    "no_age_test_X = no_age_predicting[no_age_features]\n",
    "age_test_X = preprocessing.StandardScaler().fit(age_test_X).transform(age_test_X.astype(float))\n",
    "no_age_test_X = preprocessing.StandardScaler().fit(no_age_test_X).transform(no_age_test_X.astype(float))\n",
    "age_test_X [0:5]"
   ]
  },
  {
   "cell_type": "markdown",
   "metadata": {},
   "source": [
    "# Modelling with age"
   ]
  },
  {
   "cell_type": "code",
   "execution_count": 19,
   "metadata": {},
   "outputs": [
    {
     "name": "stdout",
     "output_type": "stream",
     "text": [
      "The best k was 6, with a f1_score of 0.7951591140895167, a jaccard_score of 0.6638593850187638, an accuracy score of 0.7978233034571063, and an overall score of 0.7522806008551289\n"
     ]
    }
   ],
   "source": [
    "#list of scorers I will use\n",
    "scoring = ['accuracy', 'f1_weighted', 'jaccard_weighted']\n",
    "for scorer in scoring:\n",
    "    #making variables for each scorer\n",
    "    globals()['neighbors_'+scorer] = []\n",
    "    for k in range(1, 10):\n",
    "        #making a model for each k\n",
    "        neigh = KNeighborsClassifier(n_neighbors = k)\n",
    "        #evaluating the model with each scorer and storing the results in a list for each scorer\n",
    "        globals()['neighbors_'+scorer].append(cross_validate(neigh, age_train_X, age_y, scoring = scorer)['test_score'].mean())\n",
    "#averaging the score from each scorer for each k value and finding the best k\n",
    "average_neighbor_score = [(x + y + z)/3 for x, y, z in zip(neighbors_accuracy, neighbors_f1_weighted, neighbors_jaccard_weighted)]\n",
    "best_k = average_neighbor_score.index(max(average_neighbor_score))\n",
    "#getting each score for the best k\n",
    "for scorer in scoring:\n",
    "    globals()['best_'+scorer] = globals()['neighbors_'+scorer][best_k]\n",
    "#printing results\n",
    "age_neigh = KNeighborsClassifier(n_neighbors = best_k).fit(age_train_X, age_y)\n",
    "print('The best k was {}, with a f1_score of {}, a jaccard_score of {}, an accuracy score of {}, and an overall score of {}'.format(best_k, best_f1_weighted, best_jaccard_weighted, best_accuracy, mean([best_f1_weighted, best_jaccard_weighted, best_accuracy])))"
   ]
  },
  {
   "cell_type": "code",
   "execution_count": 20,
   "metadata": {},
   "outputs": [
    {
     "name": "stdout",
     "output_type": "stream",
     "text": [
      "The best k was 5, with a f1_score of 0.7710570770330991, a jaccard_score of 0.6352195687391766, an accuracy score of 0.7801587301587303, and an overall score of 0.728811791977002\n"
     ]
    }
   ],
   "source": [
    "#list of scorers I will use\n",
    "scoring = ['accuracy', 'f1_weighted', 'jaccard_weighted']\n",
    "for scorer in scoring:\n",
    "    #making variables for each scorer\n",
    "    globals()['neighbors_'+scorer] = []\n",
    "    for k in range(1, 10):\n",
    "        #making a model for each k\n",
    "        neigh = KNeighborsClassifier(n_neighbors = k)\n",
    "        #evaluating the model with each scorer and storing the results in a list for each scorer\n",
    "        globals()['neighbors_'+scorer].append(cross_validate(neigh, no_age_train_X, no_age_y, scoring = scorer)['test_score'].mean())\n",
    "#averaging the score from each scorer for each k value and finding the best k\n",
    "average_neighbor_score = [(x + y + z)/3 for x, y, z in zip(neighbors_accuracy, neighbors_f1_weighted, neighbors_jaccard_weighted)]\n",
    "best_k = average_neighbor_score.index(max(average_neighbor_score))\n",
    "#getting each score for the best k\n",
    "for scorer in scoring:\n",
    "    globals()['best_'+scorer] = globals()['neighbors_'+scorer][best_k]\n",
    "#printing results\n",
    "no_age_neigh = KNeighborsClassifier(n_neighbors = best_k).fit(no_age_train_X, no_age_y)\n",
    "print('The best k was {}, with a f1_score of {}, a jaccard_score of {}, an accuracy score of {}, and an overall score of {}'.format(best_k, best_f1_weighted, best_jaccard_weighted, best_accuracy, mean([best_f1_weighted, best_jaccard_weighted, best_accuracy])))"
   ]
  },
  {
   "cell_type": "markdown",
   "metadata": {},
   "source": [
    "# SVM"
   ]
  },
  {
   "cell_type": "code",
   "execution_count": 21,
   "metadata": {},
   "outputs": [
    {
     "name": "stdout",
     "output_type": "stream",
     "text": [
      "The best c was 0.01, with a f1_score of 0.7767059184874958, a jaccard_score of 0.6392062018549647, an accuracy score of 0.779434649857185, and an overall score of 0.7317822567332152\n"
     ]
    }
   ],
   "source": [
    "#making list of c values\n",
    "c_list = np.arange(.01, 0.1, 0.01).tolist()\n",
    "for scorer in scoring:\n",
    "    #making variable for each scorer\n",
    "    globals()['svm_'+scorer] = []\n",
    "    for c in c_list:\n",
    "        #creating model for each c value\n",
    "        SVM1 = svm.SVC(C=c, kernel='linear')\n",
    "        #evaluating the model with each scorer and storing the results in a list for each scorer\n",
    "        globals()['svm_'+scorer].append(cross_validate(SVM1, age_train_X, age_y, scoring = scorer)['test_score'].mean())\n",
    "#averaging the score from each scorer for each c value and finding the best c\n",
    "average_svm_score = [(x + y + z)/3 for x, y, z in zip(svm_accuracy, svm_f1_weighted, svm_jaccard_weighted)]\n",
    "best_c = c_list[average_svm_score.index(max(average_svm_score))]\n",
    "for scorer in scoring:\n",
    "    #getting each score for the best c\n",
    "    globals()['best_'+scorer] = globals()['svm_'+scorer][c_list.index(best_c)]\n",
    "#printing the results\n",
    "age_SVM = svm.SVC(C=best_c, kernel='linear').fit(age_train_X, age_y)\n",
    "print('The best c was {}, with a f1_score of {}, a jaccard_score of {}, an accuracy score of {}, and an overall score of {}'.format(best_c, best_f1_weighted, best_jaccard_weighted, best_accuracy, mean([best_f1_weighted, best_jaccard_weighted, best_accuracy])))"
   ]
  },
  {
   "cell_type": "code",
   "execution_count": 22,
   "metadata": {},
   "outputs": [
    {
     "name": "stdout",
     "output_type": "stream",
     "text": [
      "The best c was 0.02, with a f1_score of 0.7573087613965847, a jaccard_score of 0.6137053207847842, an accuracy score of 0.7626984126984127, and an overall score of 0.7112374982932606\n"
     ]
    }
   ],
   "source": [
    "#making list of c values\n",
    "c_list = np.arange(.01, 0.1, 0.01).tolist()\n",
    "for scorer in scoring:\n",
    "    #making variable for each scorer\n",
    "    globals()['svm_'+scorer] = []\n",
    "    for c in c_list:\n",
    "        #creating model for each c value\n",
    "        SVM1 = svm.SVC(C=c, kernel='linear')\n",
    "        #evaluating the model with each scorer and storing the results in a list for each scorer\n",
    "        globals()['svm_'+scorer].append(cross_validate(SVM1, no_age_train_X, no_age_y, scoring = scorer)['test_score'].mean())\n",
    "#averaging the score from each scorer for each c value and finding the best c\n",
    "average_svm_score = [(x + y + z)/3 for x, y, z in zip(svm_accuracy, svm_f1_weighted, svm_jaccard_weighted)]\n",
    "best_c = c_list[average_svm_score.index(max(average_svm_score))]\n",
    "for scorer in scoring:\n",
    "    #getting each score for the best c\n",
    "    globals()['best_'+scorer] = globals()['svm_'+scorer][c_list.index(best_c)]\n",
    "#printing the results\n",
    "no_age_SVM = svm.SVC(C=best_c, kernel='linear').fit(no_age_train_X, no_age_y)\n",
    "print('The best c was {}, with a f1_score of {}, a jaccard_score of {}, an accuracy score of {}, and an overall score of {}'.format(best_c, best_f1_weighted, best_jaccard_weighted, best_accuracy, mean([best_f1_weighted, best_jaccard_weighted, best_accuracy])))"
   ]
  },
  {
   "cell_type": "markdown",
   "metadata": {},
   "source": [
    "# Decision Tree"
   ]
  },
  {
   "cell_type": "code",
   "execution_count": 23,
   "metadata": {},
   "outputs": [
    {
     "name": "stdout",
     "output_type": "stream",
     "text": [
      "The best depth was 6, with a f1_score of 0.7916774968326908, a jaccard_score of 0.6582187399605273, an accuracy score of 0.7949867034374076, and an overall score of 0.7482943134102086\n"
     ]
    }
   ],
   "source": [
    "#making list of depths\n",
    "depths = np.arange(1, 10, 1)\n",
    "for scorer in scoring:\n",
    "    #making variable for each scorer\n",
    "    globals()['tree_'+scorer] = []\n",
    "    for depth in depths:\n",
    "        #creating model for each depth\n",
    "        tree = DecisionTreeClassifier(max_depth = depth, criterion='entropy')\n",
    "        #evaluating the model with each scorer and storing the results in a list for each scorer\n",
    "        globals()['tree_'+scorer].append(cross_validate(tree, age_train_X, age_y, scoring = scorer)['test_score'].mean())\n",
    "#averaging the score from each scorer for each depth and finding the best depth\n",
    "average_tree_score = [(x + y + z)/3 for x, y, z in zip(tree_accuracy, tree_f1_weighted, tree_jaccard_weighted)]\n",
    "best_depth = depths[average_tree_score.index(max(average_tree_score))]\n",
    "for scorer in scoring:\n",
    "    #getting each score for the best depth\n",
    "    globals()['best_'+scorer] = globals()['tree_'+scorer][best_depth]\n",
    "age_tree = DecisionTreeClassifier(max_depth = best_depth, criterion='entropy').fit(age_train_X, age_y)\n",
    "#printing the results\n",
    "print('The best depth was {}, with a f1_score of {}, a jaccard_score of {}, an accuracy score of {}, and an overall score of {}'.format(best_depth, best_f1_weighted, best_jaccard_weighted, best_accuracy, mean([best_f1_weighted, best_jaccard_weighted, best_accuracy])))"
   ]
  },
  {
   "cell_type": "code",
   "execution_count": 24,
   "metadata": {},
   "outputs": [
    {
     "name": "stdout",
     "output_type": "stream",
     "text": [
      "The best depth was 1, with a f1_score of 0.7013452253083722, a jaccard_score of 0.5526907946926922, an accuracy score of 0.7069841269841269, and an overall score of 0.6536733823283971\n"
     ]
    }
   ],
   "source": [
    "#making list of depths\n",
    "depths = np.arange(1, 10, 1)\n",
    "for scorer in scoring:\n",
    "    #making variable for each scorer\n",
    "    globals()['tree_'+scorer] = []\n",
    "    for depth in depths:\n",
    "        #creating model for each depth\n",
    "        tree = DecisionTreeClassifier(max_depth = depth, criterion='entropy')\n",
    "        #evaluating the model with each scorer and storing the results in a list for each scorer\n",
    "        globals()['tree_'+scorer].append(cross_validate(tree, no_age_train_X, no_age_y, scoring = scorer)['test_score'].mean())\n",
    "#averaging the score from each scorer for each depth and finding the best depth\n",
    "average_tree_score = [(x + y + z)/3 for x, y, z in zip(tree_accuracy, tree_f1_weighted, tree_jaccard_weighted)]\n",
    "best_depth = depths[average_tree_score.index(max(average_tree_score))]\n",
    "for scorer in scoring:\n",
    "    #getting each score for the best depth\n",
    "    globals()['best_'+scorer] = globals()['tree_'+scorer][best_depth]\n",
    "no_age_tree = DecisionTreeClassifier(max_depth = best_depth, criterion='entropy').fit(no_age_train_X, no_age_y)\n",
    "#printing the results\n",
    "print('The best depth was {}, with a f1_score of {}, a jaccard_score of {}, an accuracy score of {}, and an overall score of {}'.format(best_depth, best_f1_weighted, best_jaccard_weighted, best_accuracy, mean([best_f1_weighted, best_jaccard_weighted, best_accuracy])))"
   ]
  },
  {
   "cell_type": "markdown",
   "metadata": {},
   "source": [
    "# Logistic Regression"
   ]
  },
  {
   "cell_type": "code",
   "execution_count": 25,
   "metadata": {},
   "outputs": [
    {
     "name": "stdout",
     "output_type": "stream",
     "text": [
      "The best c was 0.01, with a f1_score of 0.7857771824748125, a jaccard_score of 0.6544378195927134, a logloss of -0.5054215541939621, an accuracy score of 0.7935881020388063, and an overall score of 0.7446010347021107\n"
     ]
    }
   ],
   "source": [
    "log_scoring = scoring = ['accuracy', 'f1_weighted', 'jaccard_weighted', 'neg_log_loss']\n",
    "#making list of c values\n",
    "log_c_list = np.arange(.01, 0.1, 0.01).tolist()\n",
    "for scorer in log_scoring:\n",
    "    #making variable for each scorer\n",
    "    globals()['lr_'+scorer] = []\n",
    "    for c in log_c_list:\n",
    "        #creating model for each c value\n",
    "        LR1 = LogisticRegression(C=c, solver='saga')\n",
    "        #evaluating the model with each scorer and storing the results in a list for each scorer\n",
    "        globals()['lr_'+scorer].append(cross_validate(LR1, age_train_X, age_y, scoring = scorer)['test_score'].mean())\n",
    "#averaging the score from each scorer for each c value and finding the best c\n",
    "average_lr_score = [(x + y + z)/3 for x, y, z in zip(lr_accuracy, lr_f1_weighted, lr_jaccard_weighted)]\n",
    "best_log_c = log_c_list[average_lr_score.index(max(average_lr_score))]\n",
    "for scorer in log_scoring:\n",
    "    #getting each score for the best c\n",
    "    globals()['best_'+scorer] = globals()['lr_'+scorer][log_c_list.index(best_log_c)]\n",
    "#printing the results\n",
    "age_LR = LogisticRegression(C=c, solver='saga').fit(age_train_X, age_y)\n",
    "print('The best c was {}, with a f1_score of {}, a jaccard_score of {}, a logloss of {}, an accuracy score of {}, and an overall score of {}'.format(best_log_c, best_f1_weighted, best_jaccard_weighted, best_neg_log_loss, best_accuracy, mean([best_f1_weighted, best_jaccard_weighted, best_accuracy])))"
   ]
  },
  {
   "cell_type": "code",
   "execution_count": 26,
   "metadata": {},
   "outputs": [
    {
     "name": "stdout",
     "output_type": "stream",
     "text": [
      "The best c was 0.06999999999999999, with a f1_score of 0.7167110457387195, a jaccard_score of 0.5701116158070618, a logloss of -0.5420149591881949, an accuracy score of 0.7238095238095239, and an overall score of 0.6702107284517684\n"
     ]
    }
   ],
   "source": [
    "log_scoring = scoring = ['accuracy', 'f1_weighted', 'jaccard_weighted', 'neg_log_loss']\n",
    "#making list of c values\n",
    "log_c_list = np.arange(.01, 0.1, 0.01).tolist()\n",
    "for scorer in log_scoring:\n",
    "    #making variable for each scorer\n",
    "    globals()['lr_'+scorer] = []\n",
    "    for c in log_c_list:\n",
    "        #creating model for each c value\n",
    "        LR1 = LogisticRegression(C=c, solver='saga')\n",
    "        #evaluating the model with each scorer and storing the results in a list for each scorer\n",
    "        globals()['lr_'+scorer].append(cross_validate(LR1, no_age_train_X, no_age_y, scoring = scorer)['test_score'].mean())\n",
    "#averaging the score from each scorer for each c value and finding the best c\n",
    "average_lr_score = [(x + y + z)/3 for x, y, z in zip(lr_accuracy, lr_f1_weighted, lr_jaccard_weighted)]\n",
    "best_log_c = log_c_list[average_lr_score.index(max(average_lr_score))]\n",
    "for scorer in log_scoring:\n",
    "    #getting each score for the best c\n",
    "    globals()['best_'+scorer] = globals()['lr_'+scorer][log_c_list.index(best_log_c)]\n",
    "#printing the results\n",
    "no_age_LR = LogisticRegression(C=c, solver='saga').fit(no_age_train_X, no_age_y)\n",
    "print('The best c was {}, with a f1_score of {}, a jaccard_score of {}, a logloss of {}, an accuracy score of {}, and an overall score of {}'.format(best_log_c, best_f1_weighted, best_jaccard_weighted, best_neg_log_loss, best_accuracy, mean([best_f1_weighted, best_jaccard_weighted, best_accuracy])))"
   ]
  },
  {
   "cell_type": "code",
   "execution_count": 36,
   "metadata": {},
   "outputs": [],
   "source": [
    "age_neighHat = age_neigh.predict(age_test_X).tolist()\n",
    "age_LRHat = age_LR.predict(age_test_X).tolist()\n",
    "age_treeHat = age_tree.predict(age_test_X).tolist()\n",
    "age_SVMHat = age_SVM.predict(age_test_X).tolist()\n",
    "no_age_neighHat = no_age_neigh.predict(no_age_test_X).tolist()\n",
    "no_age_LRHat = no_age_LR.predict(no_age_test_X).tolist()\n",
    "no_age_treeHat = no_age_tree.predict(no_age_test_X).tolist()\n",
    "no_age_SVMHat = no_age_SVM.predict(no_age_test_X).tolist()"
   ]
  },
  {
   "cell_type": "code",
   "execution_count": 88,
   "metadata": {},
   "outputs": [
    {
     "name": "stderr",
     "output_type": "stream",
     "text": [
      "<ipython-input-88-acb1ca38e037>:4: SettingWithCopyWarning: \n",
      "A value is trying to be set on a copy of a slice from a DataFrame.\n",
      "Try using .loc[row_indexer,col_indexer] = value instead\n",
      "\n",
      "See the caveats in the documentation: https://pandas.pydata.org/pandas-docs/stable/user_guide/indexing.html#returning-a-view-versus-a-copy\n",
      "  no_age_predicting['Survived']=globals()['no_age_{}Hat'.format(model)]\n"
     ]
    }
   ],
   "source": [
    "models = ['neigh', 'LR', 'tree', 'SVM']\n",
    "for model in models:\n",
    "    age_predicting['Survived']=globals()['age_{}Hat'.format(model)]\n",
    "    no_age_predicting['Survived']=globals()['no_age_{}Hat'.format(model)]\n",
    "    submission_df = age_predicting[['PassengerId', 'Survived']].append(no_age_predicting[['PassengerId', 'Survived']])\n",
    "    submission_df.sort_values('PassengerId', inplace = True)\n",
    "    submission_df.to_csv('titanic_{}_submission.csv'.format(model), index = False)"
   ]
  },
  {
   "cell_type": "code",
   "execution_count": 92,
   "metadata": {},
   "outputs": [
    {
     "data": {
      "text/html": [
       "<div>\n",
       "<style scoped>\n",
       "    .dataframe tbody tr th:only-of-type {\n",
       "        vertical-align: middle;\n",
       "    }\n",
       "\n",
       "    .dataframe tbody tr th {\n",
       "        vertical-align: top;\n",
       "    }\n",
       "\n",
       "    .dataframe thead th {\n",
       "        text-align: right;\n",
       "    }\n",
       "</style>\n",
       "<table border=\"1\" class=\"dataframe\">\n",
       "  <thead>\n",
       "    <tr style=\"text-align: right;\">\n",
       "      <th></th>\n",
       "      <th>PassengerId</th>\n",
       "      <th>Survived</th>\n",
       "    </tr>\n",
       "  </thead>\n",
       "  <tbody>\n",
       "    <tr>\n",
       "      <th>0</th>\n",
       "      <td>892</td>\n",
       "      <td>0</td>\n",
       "    </tr>\n",
       "    <tr>\n",
       "      <th>1</th>\n",
       "      <td>893</td>\n",
       "      <td>0</td>\n",
       "    </tr>\n",
       "    <tr>\n",
       "      <th>2</th>\n",
       "      <td>894</td>\n",
       "      <td>0</td>\n",
       "    </tr>\n",
       "    <tr>\n",
       "      <th>3</th>\n",
       "      <td>895</td>\n",
       "      <td>0</td>\n",
       "    </tr>\n",
       "    <tr>\n",
       "      <th>4</th>\n",
       "      <td>896</td>\n",
       "      <td>0</td>\n",
       "    </tr>\n",
       "    <tr>\n",
       "      <th>...</th>\n",
       "      <td>...</td>\n",
       "      <td>...</td>\n",
       "    </tr>\n",
       "    <tr>\n",
       "      <th>413</th>\n",
       "      <td>1305</td>\n",
       "      <td>0</td>\n",
       "    </tr>\n",
       "    <tr>\n",
       "      <th>414</th>\n",
       "      <td>1306</td>\n",
       "      <td>1</td>\n",
       "    </tr>\n",
       "    <tr>\n",
       "      <th>415</th>\n",
       "      <td>1307</td>\n",
       "      <td>0</td>\n",
       "    </tr>\n",
       "    <tr>\n",
       "      <th>416</th>\n",
       "      <td>1308</td>\n",
       "      <td>0</td>\n",
       "    </tr>\n",
       "    <tr>\n",
       "      <th>417</th>\n",
       "      <td>1309</td>\n",
       "      <td>0</td>\n",
       "    </tr>\n",
       "  </tbody>\n",
       "</table>\n",
       "<p>418 rows × 2 columns</p>\n",
       "</div>"
      ],
      "text/plain": [
       "     PassengerId  Survived\n",
       "0            892         0\n",
       "1            893         0\n",
       "2            894         0\n",
       "3            895         0\n",
       "4            896         0\n",
       "..           ...       ...\n",
       "413         1305         0\n",
       "414         1306         1\n",
       "415         1307         0\n",
       "416         1308         0\n",
       "417         1309         0\n",
       "\n",
       "[418 rows x 2 columns]"
      ]
     },
     "execution_count": 92,
     "metadata": {},
     "output_type": "execute_result"
    }
   ],
   "source": [
    "test_submission_df=pd.read_csv('titanic_tree_submission.csv')\n",
    "test_submission_df"
   ]
  },
  {
   "cell_type": "code",
   "execution_count": 85,
   "metadata": {},
   "outputs": [
    {
     "data": {
      "text/html": [
       "<div>\n",
       "<style scoped>\n",
       "    .dataframe tbody tr th:only-of-type {\n",
       "        vertical-align: middle;\n",
       "    }\n",
       "\n",
       "    .dataframe tbody tr th {\n",
       "        vertical-align: top;\n",
       "    }\n",
       "\n",
       "    .dataframe thead th {\n",
       "        text-align: right;\n",
       "    }\n",
       "</style>\n",
       "<table border=\"1\" class=\"dataframe\">\n",
       "  <thead>\n",
       "    <tr style=\"text-align: right;\">\n",
       "      <th></th>\n",
       "      <th>PassengerId</th>\n",
       "      <th>Survived</th>\n",
       "    </tr>\n",
       "  </thead>\n",
       "  <tbody>\n",
       "    <tr>\n",
       "      <th>0</th>\n",
       "      <td>892</td>\n",
       "      <td>0</td>\n",
       "    </tr>\n",
       "    <tr>\n",
       "      <th>1</th>\n",
       "      <td>893</td>\n",
       "      <td>1</td>\n",
       "    </tr>\n",
       "    <tr>\n",
       "      <th>2</th>\n",
       "      <td>894</td>\n",
       "      <td>0</td>\n",
       "    </tr>\n",
       "    <tr>\n",
       "      <th>3</th>\n",
       "      <td>895</td>\n",
       "      <td>0</td>\n",
       "    </tr>\n",
       "    <tr>\n",
       "      <th>4</th>\n",
       "      <td>896</td>\n",
       "      <td>1</td>\n",
       "    </tr>\n",
       "    <tr>\n",
       "      <th>...</th>\n",
       "      <td>...</td>\n",
       "      <td>...</td>\n",
       "    </tr>\n",
       "    <tr>\n",
       "      <th>413</th>\n",
       "      <td>1305</td>\n",
       "      <td>0</td>\n",
       "    </tr>\n",
       "    <tr>\n",
       "      <th>414</th>\n",
       "      <td>1306</td>\n",
       "      <td>1</td>\n",
       "    </tr>\n",
       "    <tr>\n",
       "      <th>415</th>\n",
       "      <td>1307</td>\n",
       "      <td>0</td>\n",
       "    </tr>\n",
       "    <tr>\n",
       "      <th>416</th>\n",
       "      <td>1308</td>\n",
       "      <td>0</td>\n",
       "    </tr>\n",
       "    <tr>\n",
       "      <th>417</th>\n",
       "      <td>1309</td>\n",
       "      <td>0</td>\n",
       "    </tr>\n",
       "  </tbody>\n",
       "</table>\n",
       "<p>418 rows × 2 columns</p>\n",
       "</div>"
      ],
      "text/plain": [
       "     PassengerId  Survived\n",
       "0            892         0\n",
       "1            893         1\n",
       "2            894         0\n",
       "3            895         0\n",
       "4            896         1\n",
       "..           ...       ...\n",
       "413         1305         0\n",
       "414         1306         1\n",
       "415         1307         0\n",
       "416         1308         0\n",
       "417         1309         0\n",
       "\n",
       "[418 rows x 2 columns]"
      ]
     },
     "execution_count": 85,
     "metadata": {},
     "output_type": "execute_result"
    }
   ],
   "source": [
    "example_df"
   ]
  }
 ],
 "metadata": {
  "kernelspec": {
   "display_name": "Python 3",
   "language": "python",
   "name": "python3"
  },
  "language_info": {
   "codemirror_mode": {
    "name": "ipython",
    "version": 3
   },
   "file_extension": ".py",
   "mimetype": "text/x-python",
   "name": "python",
   "nbconvert_exporter": "python",
   "pygments_lexer": "ipython3",
   "version": "3.8.3"
  }
 },
 "nbformat": 4,
 "nbformat_minor": 4
}
